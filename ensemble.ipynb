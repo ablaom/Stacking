{
 "cells": [
  {
   "outputs": [],
   "cell_type": "markdown",
   "source": [
    "Simple example of a homogeneous ensemble using learning networks"
   ],
   "metadata": {}
  },
  {
   "outputs": [],
   "cell_type": "code",
   "source": [
    "using MLJ"
   ],
   "metadata": {},
   "execution_count": 1
  },
  {
   "outputs": [],
   "cell_type": "markdown",
   "source": [
    "learning network (composite model spec):"
   ],
   "metadata": {}
  },
  {
   "outputs": [
    {
     "output_type": "execute_result",
     "data": {
      "text/plain": "Base.Generator{UnitRange{Int64},getfield(Main.##367, Symbol(\"##1#2\"))}(getfield(Main.##367, Symbol(\"##1#2\"))(), 1:100)"
     },
     "metadata": {},
     "execution_count": 2
    }
   ],
   "cell_type": "code",
   "source": [
    "Xs = source()\n",
    "ys = source(kind=:target)\n",
    "\n",
    "atom = @load DecisionTreeRegressor\n",
    "atom.n_subfeatures = 4\n",
    "\n",
    "machines = (machine(atom, Xs, ys) for i in 1:100)"
   ],
   "metadata": {},
   "execution_count": 2
  },
  {
   "outputs": [],
   "cell_type": "markdown",
   "source": [
    "overload summation for nodes:"
   ],
   "metadata": {}
  },
  {
   "outputs": [],
   "cell_type": "code",
   "source": [
    "Base.sum(v...) = sum(v)\n",
    "Base.sum(v::AbstractVector{<:AbstractNode}) = node(sum, v...)\n",
    "\n",
    "yhat = sum([predict(m, Xs) for  m in machines]);"
   ],
   "metadata": {},
   "execution_count": 3
  },
  {
   "outputs": [],
   "cell_type": "markdown",
   "source": [
    "new composite model type and instance:"
   ],
   "metadata": {}
  },
  {
   "outputs": [
    {
     "name": "stdout",
     "output_type": "stream",
     "text": [
      "\rEvaluating over 6 folds:  14%[===>                     ]  ETA: 0:00:00\u001b[K\rEvaluating over 6 folds:  29%[=======>                 ]  ETA: 0:00:01\u001b[K\rEvaluating over 6 folds:  43%[==========>              ]  ETA: 0:00:01\u001b[K\rEvaluating over 6 folds:  57%[==============>          ]  ETA: 0:00:01\u001b[K\rEvaluating over 6 folds:  71%[=================>       ]  ETA: 0:00:00\u001b[K\rEvaluating over 6 folds:  86%[=====================>   ]  ETA: 0:00:00\u001b[K\rEvaluating over 6 folds: 100%[=========================] Time: 0:00:01\u001b[K\n"
     ]
    },
    {
     "output_type": "execute_result",
     "data": {
      "text/plain": "(measure = MLJBase.RMS[rms],\n measurement = [2329.62],\n per_fold = Array{Float64,1}[[2313.73, 2288.75, 2703.03, 2769.71, 1844.1, 1895.41]],\n per_observation = Missing[missing],)"
     },
     "metadata": {},
     "execution_count": 4
    }
   ],
   "cell_type": "code",
   "source": [
    "one_hundred_trees = @from_network OneHundredTrees(atom=atom) <= yhat\n",
    "\n",
    "X, y = @load_boston;\n",
    "evaluate(one_hundred_trees, X, y, measure=rms)"
   ],
   "metadata": {},
   "execution_count": 4
  },
  {
   "outputs": [],
   "cell_type": "markdown",
   "source": [
    "*This notebook was generated using [Literate.jl](https://github.com/fredrikekre/Literate.jl).*"
   ],
   "metadata": {}
  }
 ],
 "nbformat_minor": 3,
 "metadata": {
  "language_info": {
   "file_extension": ".jl",
   "mimetype": "application/julia",
   "name": "julia",
   "version": "1.1.1"
  },
  "kernelspec": {
   "name": "julia-1.1",
   "display_name": "Julia 1.1.1",
   "language": "julia"
  }
 },
 "nbformat": 4
}
